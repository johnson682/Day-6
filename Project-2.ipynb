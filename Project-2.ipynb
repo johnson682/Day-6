{
 "cells": [
  {
   "cell_type": "markdown",
   "metadata": {},
   "source": [
    "# Project - 2 "
   ]
  },
  {
   "cell_type": "markdown",
   "metadata": {},
   "source": [
    "# Sending Email to friend using python"
   ]
  },
  {
   "cell_type": "code",
   "execution_count": 1,
   "metadata": {},
   "outputs": [
    {
     "name": "stdout",
     "output_type": "stream",
     "text": [
      "Requirement already satisfied: emails in e:\\anaconda\\lib\\site-packages (0.6)\n",
      "Requirement already satisfied: lxml in e:\\anaconda\\lib\\site-packages (from emails) (4.6.1)\n",
      "Requirement already satisfied: premailer in e:\\anaconda\\lib\\site-packages (from emails) (3.7.0)\n",
      "Requirement already satisfied: python-dateutil in e:\\anaconda\\lib\\site-packages (from emails) (2.8.1)\n",
      "Requirement already satisfied: chardet in e:\\anaconda\\lib\\site-packages (from emails) (3.0.4)\n",
      "Requirement already satisfied: cssutils in e:\\anaconda\\lib\\site-packages (from emails) (1.0.2)\n",
      "Requirement already satisfied: requests in e:\\anaconda\\lib\\site-packages (from emails) (2.24.0)\n",
      "Requirement already satisfied: cssselect in e:\\anaconda\\lib\\site-packages (from premailer->emails) (1.1.0)\n",
      "Requirement already satisfied: cachetools in e:\\anaconda\\lib\\site-packages (from premailer->emails) (4.2.0)\n",
      "Requirement already satisfied: six>=1.5 in e:\\anaconda\\lib\\site-packages (from python-dateutil->emails) (1.15.0)\n",
      "Requirement already satisfied: urllib3!=1.25.0,!=1.25.1,<1.26,>=1.21.1 in e:\\anaconda\\lib\\site-packages (from requests->emails) (1.25.11)\n",
      "Requirement already satisfied: idna<3,>=2.5 in e:\\anaconda\\lib\\site-packages (from requests->emails) (2.10)\n",
      "Requirement already satisfied: certifi>=2017.4.17 in e:\\anaconda\\lib\\site-packages (from requests->emails) (2020.6.20)\n"
     ]
    }
   ],
   "source": [
    "!pip install emails"
   ]
  },
  {
   "cell_type": "code",
   "execution_count": 2,
   "metadata": {},
   "outputs": [],
   "source": [
    "import emails"
   ]
  },
  {
   "cell_type": "code",
   "execution_count": 13,
   "metadata": {},
   "outputs": [
    {
     "data": {
      "text/plain": [
       "<emails.backend.SMTPResponse status_code=250 status_text=b'2.0.0 OK  1608356458 u24sm8788812pjx.56 - gsmtp'>"
      ]
     },
     "execution_count": 13,
     "metadata": {},
     "output_type": "execute_result"
    }
   ],
   "source": [
    "mail_via_python"
   ]
  },
  {
   "cell_type": "code",
   "execution_count": 29,
   "metadata": {},
   "outputs": [],
   "source": [
    "def mailsend(email,name):\n",
    "    html_text = '''<p><span style=\"font-family: Courier New, courier;\"><span style=\"background-color: rgb(247, 218, 100);\">Hi someone</span>&nbsp;</span></p>\n",
    "                <p><span style=\"font-family: Courier New, courier;\"><br></span></p>\n",
    "                <p><span style=\"font-family: Courier New, courier;\">How are you this is Someone FROM Somewhere,&nbsp;</span></p>\n",
    "                <p><span style=\"font-family: Courier New, courier;\">mail send by python script,&nbsp;</span></p>'''\n",
    "    \n",
    "    Sub = \"Hi \"+ name +\", some stuff From somewhere\"\n",
    "    \n",
    "    message = emails.html(html=html_text,\n",
    "                          subject= Sub ,\n",
    "                          mail_from=('Something', 'somewhere.com'))\n",
    "    \n",
    "    mailByPython = message.send(to= email, \n",
    "                               smtp={'host': 'smtp.gmail.com', \n",
    "                                     'timeout': 5,\n",
    "                                    'port':587,\n",
    "                                    'user':'john1234abcd1234@gmail.com',\n",
    "                                    'password':'password',\n",
    "                                    'tls':True})\n",
    "    return mailByPython.status_code\n"
   ]
  },
  {
   "cell_type": "code",
   "execution_count": 31,
   "metadata": {},
   "outputs": [
    {
     "data": {
      "text/plain": [
       "250"
      ]
     },
     "execution_count": 31,
     "metadata": {},
     "output_type": "execute_result"
    }
   ],
   "source": [
    "mailsend(\"gugan@gmail.com\",\"Someone\")"
   ]
  },
  {
   "cell_type": "code",
   "execution_count": 11,
   "metadata": {},
   "outputs": [],
   "source": []
  },
  {
   "cell_type": "code",
   "execution_count": null,
   "metadata": {},
   "outputs": [],
   "source": []
  }
 ],
 "metadata": {
  "kernelspec": {
   "display_name": "Python 3",
   "language": "python",
   "name": "python3"
  },
  "language_info": {
   "codemirror_mode": {
    "name": "ipython",
    "version": 3
   },
   "file_extension": ".py",
   "mimetype": "text/x-python",
   "name": "python",
   "nbconvert_exporter": "python",
   "pygments_lexer": "ipython3",
   "version": "3.8.5"
  }
 },
 "nbformat": 4,
 "nbformat_minor": 4
}
